{
 "cells": [
  {
   "cell_type": "code",
   "execution_count": 5,
   "id": "a42fa0c7",
   "metadata": {},
   "outputs": [],
   "source": [
    "\"\"\"\n",
    "Tạo class có tên SoHoc gồm có các thuộc tính và phương thức sau:\n",
    "+ Thuộc tính: number1, number2\n",
    "+ Phương thức:\n",
    "- Phương thức tạo __init()__\n",
    "- print_info(): dùng để hiển thị number1, number2\n",
    "- addition(): dùng để cộng number1, number2\n",
    "- subtract(): trừ number1, number2\n",
    "- multi(): dùng để nhân number1, number2\n",
    "- division(): dùng để chia number1, number2.\n",
    "\n",
    "Sau khi tạo class, khởi tạo một object SoHoc và in ra kết quả tính toán từ các hàm thực hiện phép tính\n",
    "\"\"\"\n",
    "\n",
    "class SoHoc:\n",
    "    def __init__(self, number1, number2):\n",
    "        self.number1 = number1\n",
    "        self.number2 = number2\n",
    "        \n",
    "    def print_info(self):\n",
    "        print(f\"number1: {self.number1}\")\n",
    "        print(f\"number2: {self.number2}\")\n",
    "        \n",
    "    def addition(self):\n",
    "        number3 = self.number1 + self.number2\n",
    "        print(f\"addition: {number3}\")\n",
    "        \n",
    "    def subtract(self):\n",
    "        print(f\"subtract: {self.number1 - self.number2}\")\n",
    "        \n",
    "    def multi(self):\n",
    "        print(f\"multi: {self.number1 * self.number2}\")\n",
    "        \n",
    "    def division(self):\n",
    "        print(f\"division: {self.number1 / self.number2}\")\n",
    "        "
   ]
  },
  {
   "cell_type": "code",
   "execution_count": 6,
   "id": "85d33e58",
   "metadata": {},
   "outputs": [
    {
     "name": "stdout",
     "output_type": "stream",
     "text": [
      "number1: 56\n",
      "number2: 78\n",
      "addition: 134\n",
      "subtract: -22\n",
      "multi: 4368\n",
      "division: 0.717948717948718\n"
     ]
    }
   ],
   "source": [
    "SoHoc1 = SoHoc(56, 78)\n",
    "SoHoc1.print_info()\n",
    "SoHoc1.addition()\n",
    "SoHoc1.subtract()\n",
    "SoHoc1.multi()\n",
    "SoHoc1.division()"
   ]
  }
 ],
 "metadata": {
  "kernelspec": {
   "display_name": "Python 3 (ipykernel)",
   "language": "python",
   "name": "python3"
  },
  "language_info": {
   "codemirror_mode": {
    "name": "ipython",
    "version": 3
   },
   "file_extension": ".py",
   "mimetype": "text/x-python",
   "name": "python",
   "nbconvert_exporter": "python",
   "pygments_lexer": "ipython3",
   "version": "3.11.3"
  }
 },
 "nbformat": 4,
 "nbformat_minor": 5
}
