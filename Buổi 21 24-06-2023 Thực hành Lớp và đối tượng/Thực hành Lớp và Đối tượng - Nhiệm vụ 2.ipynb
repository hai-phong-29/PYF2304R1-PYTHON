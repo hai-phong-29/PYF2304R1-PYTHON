{
 "cells": [
  {
   "cell_type": "code",
   "execution_count": null,
   "id": "1b7705b3",
   "metadata": {},
   "outputs": [],
   "source": [
    "\"\"\"\n",
    "Viết class NhanVien gồm các thuộc tính:\n",
    "+ Tên\n",
    "+ Tuổi\n",
    "+ Địa chỉ\n",
    "+ Tiền lương\n",
    "+Tổng số giờ làm \n",
    "\n",
    "Và các phương thức:\n",
    "- Phương thức tạo\n",
    "- tinh_thuong(): Tính toán và trả về số tiền thưởng của nhân viên theo công thức sau:\n",
    "Nếu tổng số giờ làm của nhân viên >=200 thì thưởng = lương * 20%\n",
    "Nếu tổng số giờ làm của nhân viên <200 và >=100 thì thưởng = lương * 10%\n",
    "Nếu tổng số giờ làm của nhân viên <100 thì thưởng = 0\n",
    "- print_info() : In ra tất cả các thông tin cá nhân và tiền thưởng của nhân viên\n",
    "\n",
    "Tiến hành tạo ra hai đối tượng NhanVien và in ra thông tin tương ứng\n",
    "\"\"\""
   ]
  },
  {
   "cell_type": "code",
   "execution_count": 8,
   "id": "3cf0f41d",
   "metadata": {},
   "outputs": [],
   "source": [
    "class NhanVien:\n",
    "    def __init__(self, name, age, hometown, salary, worktime):\n",
    "        self.name = name \n",
    "        self.age = age\n",
    "        self.hometown = hometown\n",
    "        self.salary = salary\n",
    "        self.worktime = worktime\n",
    "    def info(self):\n",
    "        print('Tên: ', self.name)\n",
    "        print('Tuổi: ', self.age)\n",
    "        print('Địa chỉ: ', self.hometown)\n",
    "        print('Tổng giờ làm: ', self.worktime)\n",
    "        print('Lương: ', self.salary)\n",
    "        \n",
    "    def tinh_luong(self):\n",
    "        if self.worktime >= 200:\n",
    "            print(f\"Lương và thưởng của nhân viên là: {self.salary + self.salary * 0.2}\")\n",
    "        elif 100 <= self.worktime < 200:\n",
    "            print(f\"Lương và thưởng của nhân viên là: {self.salary + self.salary * 0.1}\")\n",
    "        else:\n",
    "            print(f\"Lương của nhân viên là: {self.salary}\")"
   ]
  },
  {
   "cell_type": "code",
   "execution_count": 9,
   "id": "29fea3e9",
   "metadata": {},
   "outputs": [
    {
     "name": "stdout",
     "output_type": "stream",
     "text": [
      "Tên:  Hương\n",
      "Tuổi:  18\n",
      "Địa chỉ:  Hà Nội\n",
      "Tổng giờ làm:  250\n",
      "Lương:  25000000\n",
      "Lương và thưởng của nhân viên là: 30000000.0\n"
     ]
    }
   ],
   "source": [
    "NhanVien1 = NhanVien('Hương', 18, 'Hà Nội', 25000000, 250)\n",
    "NhanVien1.info()\n",
    "NhanVien1.tinh_luong()"
   ]
  },
  {
   "cell_type": "code",
   "execution_count": null,
   "id": "b6836f97",
   "metadata": {},
   "outputs": [],
   "source": []
  },
  {
   "cell_type": "code",
   "execution_count": 13,
   "id": "6d5d50cc",
   "metadata": {},
   "outputs": [
    {
     "name": "stdout",
     "output_type": "stream",
     "text": [
      "Tên:  Hương\n",
      "Tuổi:  18\n",
      "Địa chỉ:  Hà Nội\n",
      "Tổng giờ làm:  250\n",
      "Lương:  25000000\n",
      "Lương và thưởng của nhân viên là: 30000000.0\n"
     ]
    }
   ],
   "source": [
    "class NhanVien:\n",
    "    def __init__(self, name, age, hometown, salary, worktime):\n",
    "        self.name = name \n",
    "        self.age = age\n",
    "        self.hometown = hometown\n",
    "        self.salary = salary\n",
    "        self.worktime = worktime\n",
    "        \n",
    "    def info(self):\n",
    "        print('Tên: ', self.name)\n",
    "        print('Tuổi: ', self.age)\n",
    "        print('Địa chỉ: ', self.hometown)\n",
    "        print('Tổng giờ làm: ', self.worktime)\n",
    "        print('Lương: ', self.salary)\n",
    "        \n",
    "        if self.worktime >= 200:\n",
    "            print(f\"Lương và thưởng của nhân viên là: {self.salary + self.salary * 0.2}\")\n",
    "        elif 100 <= self.worktime < 200:\n",
    "            print(f\"Lương và thưởng của nhân viên là: {self.salary + self.salary * 0.1}\")\n",
    "        else:\n",
    "            print(f\"Lương của nhân viên là: {self.salary}\")\n",
    "            \n",
    "NhanVien1 = NhanVien('Hương', 18, 'Hà Nội', 25000000, 250)\n",
    "NhanVien1.info()"
   ]
  }
 ],
 "metadata": {
  "kernelspec": {
   "display_name": "Python 3 (ipykernel)",
   "language": "python",
   "name": "python3"
  },
  "language_info": {
   "codemirror_mode": {
    "name": "ipython",
    "version": 3
   },
   "file_extension": ".py",
   "mimetype": "text/x-python",
   "name": "python",
   "nbconvert_exporter": "python",
   "pygments_lexer": "ipython3",
   "version": "3.11.3"
  }
 },
 "nbformat": 4,
 "nbformat_minor": 5
}
