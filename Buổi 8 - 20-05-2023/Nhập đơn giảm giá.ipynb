{
 "cells": [
  {
   "cell_type": "code",
   "execution_count": 2,
   "id": "03708a27",
   "metadata": {},
   "outputs": [
    {
     "name": "stdout",
     "output_type": "stream",
     "text": [
      "Nhập giá trị đơn hàng: 80\n",
      "giá trị đơn hàng là 65\n"
     ]
    }
   ],
   "source": [
    "gia = int(input(\"Nhập giá trị đơn hàng: \"))\n",
    "if gia < 75: print(f\"giá trị đơn hàng là {gia}\")\n",
    "elif 75 < gia < 100: print(f\"giá trị đơn hàng là {gia - 15}\")\n",
    "elif 100 < gia < 150: print()"
   ]
  }
 ],
 "metadata": {
  "kernelspec": {
   "display_name": "Python 3 (ipykernel)",
   "language": "python",
   "name": "python3"
  },
  "language_info": {
   "codemirror_mode": {
    "name": "ipython",
    "version": 3
   },
   "file_extension": ".py",
   "mimetype": "text/x-python",
   "name": "python",
   "nbconvert_exporter": "python",
   "pygments_lexer": "ipython3",
   "version": "3.11.3"
  }
 },
 "nbformat": 4,
 "nbformat_minor": 5
}
