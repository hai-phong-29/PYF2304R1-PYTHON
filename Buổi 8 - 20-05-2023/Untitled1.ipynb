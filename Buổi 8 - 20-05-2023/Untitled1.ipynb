{
 "cells": [
  {
   "cell_type": "code",
   "execution_count": 5,
   "id": "f9d77a58",
   "metadata": {
    "scrolled": true
   },
   "outputs": [
    {
     "name": "stdout",
     "output_type": "stream",
     "text": [
      "nhập số: 3\n",
      "là số lẻ\n"
     ]
    }
   ],
   "source": [
    "a = f(input(\"nhập số: \"))\n",
    "if a % 2 == 0:\n",
    "    print(\"là số chẵn\")\n",
    "elif a % 2 == 1:\n",
    "    print(\"là số lẻ\")\n",
    "else:\n",
    "    print(\"không phải là số tự nhiên\")"
   ]
  }
 ],
 "metadata": {
  "kernelspec": {
   "display_name": "Python 3 (ipykernel)",
   "language": "python",
   "name": "python3"
  },
  "language_info": {
   "codemirror_mode": {
    "name": "ipython",
    "version": 3
   },
   "file_extension": ".py",
   "mimetype": "text/x-python",
   "name": "python",
   "nbconvert_exporter": "python",
   "pygments_lexer": "ipython3",
   "version": "3.11.3"
  }
 },
 "nbformat": 4,
 "nbformat_minor": 5
}
